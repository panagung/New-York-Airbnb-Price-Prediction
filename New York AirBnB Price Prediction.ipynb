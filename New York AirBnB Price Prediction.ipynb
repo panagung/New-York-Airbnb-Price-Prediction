{
 "cells": [
  {
   "cell_type": "code",
   "execution_count": 1,
   "id": "5e5f76e1",
   "metadata": {},
   "outputs": [],
   "source": [
    "import numpy as np\n",
    "import pandas as pd\n",
    "import seaborn as sns\n",
    "import matplotlib.pyplot as plt\n",
    "%matplotlib inline\n",
    "\n",
    "from sklearn.preprocessing import StandardScaler, MinMaxScaler\n",
    "from sklearn.model_selection import train_test_split\n",
    "from sklearn.metrics import r2_score\n",
    "from sklearn.metrics import mean_squared_error\n",
    "from sklearn.datasets import make_regression\n",
    "from sklearn import preprocessing\n",
    "from math import sqrt\n",
    "from sklearn.linear_model import Ridge\n",
    "from sklearn.linear_model import Lasso\n",
    "from sklearn.model_selection import GridSearchCV,KFold,cross_val_score\n",
    "from matplotlib import pyplot as plt"
   ]
  },
  {
   "cell_type": "markdown",
   "id": "d034317e",
   "metadata": {},
   "source": [
    "#  New York Airbnb Price Prediction"
   ]
  },
  {
   "cell_type": "markdown",
   "id": "9c11c8d1",
   "metadata": {},
   "source": [
    "This project aims to make model predictions of air bnb price in New York so the host are able to better determine the price of the property depending on neighborhood, room type, minimum nights and availability."
   ]
  },
  {
   "cell_type": "markdown",
   "id": "b4c03255",
   "metadata": {},
   "source": [
    "# Import Data"
   ]
  },
  {
   "cell_type": "code",
   "execution_count": 2,
   "id": "876bda95",
   "metadata": {},
   "outputs": [
    {
     "name": "stderr",
     "output_type": "stream",
     "text": [
      "C:\\Users\\opign\\anaconda3\\lib\\site-packages\\IPython\\core\\interactiveshell.py:3185: DtypeWarning: Columns (17) have mixed types.Specify dtype option on import or set low_memory=False.\n",
      "  has_raised = await self.run_ast_nodes(code_ast.body, cell_name,\n"
     ]
    },
    {
     "data": {
      "text/html": [
       "<div>\n",
       "<style scoped>\n",
       "    .dataframe tbody tr th:only-of-type {\n",
       "        vertical-align: middle;\n",
       "    }\n",
       "\n",
       "    .dataframe tbody tr th {\n",
       "        vertical-align: top;\n",
       "    }\n",
       "\n",
       "    .dataframe thead th {\n",
       "        text-align: right;\n",
       "    }\n",
       "</style>\n",
       "<table border=\"1\" class=\"dataframe\">\n",
       "  <thead>\n",
       "    <tr style=\"text-align: right;\">\n",
       "      <th></th>\n",
       "      <th>id</th>\n",
       "      <th>name</th>\n",
       "      <th>host_id</th>\n",
       "      <th>host_name</th>\n",
       "      <th>neighbourhood_group</th>\n",
       "      <th>neighbourhood</th>\n",
       "      <th>latitude</th>\n",
       "      <th>longitude</th>\n",
       "      <th>room_type</th>\n",
       "      <th>price</th>\n",
       "      <th>minimum_nights</th>\n",
       "      <th>number_of_reviews</th>\n",
       "      <th>last_review</th>\n",
       "      <th>reviews_per_month</th>\n",
       "      <th>calculated_host_listings_count</th>\n",
       "      <th>availability_365</th>\n",
       "      <th>number_of_reviews_ltm</th>\n",
       "      <th>license</th>\n",
       "    </tr>\n",
       "  </thead>\n",
       "  <tbody>\n",
       "    <tr>\n",
       "      <th>0</th>\n",
       "      <td>2595</td>\n",
       "      <td>Skylit Midtown Castle</td>\n",
       "      <td>2845</td>\n",
       "      <td>Jennifer</td>\n",
       "      <td>Manhattan</td>\n",
       "      <td>Midtown</td>\n",
       "      <td>40.75356</td>\n",
       "      <td>-73.98559</td>\n",
       "      <td>Entire home/apt</td>\n",
       "      <td>150</td>\n",
       "      <td>30</td>\n",
       "      <td>48</td>\n",
       "      <td>2019-11-04</td>\n",
       "      <td>0.33</td>\n",
       "      <td>3</td>\n",
       "      <td>338</td>\n",
       "      <td>0</td>\n",
       "      <td>NaN</td>\n",
       "    </tr>\n",
       "    <tr>\n",
       "      <th>1</th>\n",
       "      <td>3831</td>\n",
       "      <td>Whole flr w/private bdrm, bath &amp; kitchen(pls r...</td>\n",
       "      <td>4869</td>\n",
       "      <td>LisaRoxanne</td>\n",
       "      <td>Brooklyn</td>\n",
       "      <td>Bedford-Stuyvesant</td>\n",
       "      <td>40.68494</td>\n",
       "      <td>-73.95765</td>\n",
       "      <td>Entire home/apt</td>\n",
       "      <td>75</td>\n",
       "      <td>1</td>\n",
       "      <td>409</td>\n",
       "      <td>2021-10-22</td>\n",
       "      <td>4.86</td>\n",
       "      <td>1</td>\n",
       "      <td>194</td>\n",
       "      <td>32</td>\n",
       "      <td>NaN</td>\n",
       "    </tr>\n",
       "    <tr>\n",
       "      <th>2</th>\n",
       "      <td>5121</td>\n",
       "      <td>BlissArtsSpace!</td>\n",
       "      <td>7356</td>\n",
       "      <td>Garon</td>\n",
       "      <td>Brooklyn</td>\n",
       "      <td>Bedford-Stuyvesant</td>\n",
       "      <td>40.68535</td>\n",
       "      <td>-73.95512</td>\n",
       "      <td>Private room</td>\n",
       "      <td>60</td>\n",
       "      <td>30</td>\n",
       "      <td>50</td>\n",
       "      <td>2016-06-05</td>\n",
       "      <td>0.52</td>\n",
       "      <td>2</td>\n",
       "      <td>365</td>\n",
       "      <td>0</td>\n",
       "      <td>NaN</td>\n",
       "    </tr>\n",
       "    <tr>\n",
       "      <th>3</th>\n",
       "      <td>5136</td>\n",
       "      <td>Spacious Brooklyn Duplex, Patio + Garden</td>\n",
       "      <td>7378</td>\n",
       "      <td>Rebecca</td>\n",
       "      <td>Brooklyn</td>\n",
       "      <td>Sunset Park</td>\n",
       "      <td>40.66265</td>\n",
       "      <td>-73.99454</td>\n",
       "      <td>Entire home/apt</td>\n",
       "      <td>275</td>\n",
       "      <td>5</td>\n",
       "      <td>2</td>\n",
       "      <td>2021-08-08</td>\n",
       "      <td>0.02</td>\n",
       "      <td>1</td>\n",
       "      <td>123</td>\n",
       "      <td>1</td>\n",
       "      <td>NaN</td>\n",
       "    </tr>\n",
       "    <tr>\n",
       "      <th>4</th>\n",
       "      <td>5178</td>\n",
       "      <td>Large Furnished Room Near B'way</td>\n",
       "      <td>8967</td>\n",
       "      <td>Shunichi</td>\n",
       "      <td>Manhattan</td>\n",
       "      <td>Midtown</td>\n",
       "      <td>40.76457</td>\n",
       "      <td>-73.98317</td>\n",
       "      <td>Private room</td>\n",
       "      <td>68</td>\n",
       "      <td>2</td>\n",
       "      <td>507</td>\n",
       "      <td>2021-11-08</td>\n",
       "      <td>3.68</td>\n",
       "      <td>1</td>\n",
       "      <td>192</td>\n",
       "      <td>33</td>\n",
       "      <td>NaN</td>\n",
       "    </tr>\n",
       "  </tbody>\n",
       "</table>\n",
       "</div>"
      ],
      "text/plain": [
       "     id                                               name  host_id  \\\n",
       "0  2595                              Skylit Midtown Castle     2845   \n",
       "1  3831  Whole flr w/private bdrm, bath & kitchen(pls r...     4869   \n",
       "2  5121                                    BlissArtsSpace!     7356   \n",
       "3  5136           Spacious Brooklyn Duplex, Patio + Garden     7378   \n",
       "4  5178                   Large Furnished Room Near B'way　     8967   \n",
       "\n",
       "     host_name neighbourhood_group       neighbourhood  latitude  longitude  \\\n",
       "0     Jennifer           Manhattan             Midtown  40.75356  -73.98559   \n",
       "1  LisaRoxanne            Brooklyn  Bedford-Stuyvesant  40.68494  -73.95765   \n",
       "2        Garon            Brooklyn  Bedford-Stuyvesant  40.68535  -73.95512   \n",
       "3      Rebecca            Brooklyn         Sunset Park  40.66265  -73.99454   \n",
       "4     Shunichi           Manhattan             Midtown  40.76457  -73.98317   \n",
       "\n",
       "         room_type  price  minimum_nights  number_of_reviews last_review  \\\n",
       "0  Entire home/apt    150              30                 48  2019-11-04   \n",
       "1  Entire home/apt     75               1                409  2021-10-22   \n",
       "2     Private room     60              30                 50  2016-06-05   \n",
       "3  Entire home/apt    275               5                  2  2021-08-08   \n",
       "4     Private room     68               2                507  2021-11-08   \n",
       "\n",
       "   reviews_per_month  calculated_host_listings_count  availability_365  \\\n",
       "0               0.33                               3               338   \n",
       "1               4.86                               1               194   \n",
       "2               0.52                               2               365   \n",
       "3               0.02                               1               123   \n",
       "4               3.68                               1               192   \n",
       "\n",
       "   number_of_reviews_ltm license  \n",
       "0                      0     NaN  \n",
       "1                     32     NaN  \n",
       "2                      0     NaN  \n",
       "3                      1     NaN  \n",
       "4                     33     NaN  "
      ]
     },
     "execution_count": 2,
     "metadata": {},
     "output_type": "execute_result"
    }
   ],
   "source": [
    "df = pd.read_csv('New York Airbnb_4 dec 2021.csv')\n",
    "df.head()"
   ]
  },
  {
   "cell_type": "markdown",
   "id": "121b45eb",
   "metadata": {},
   "source": [
    "# Describing Data"
   ]
  },
  {
   "cell_type": "code",
   "execution_count": 3,
   "id": "529ce472",
   "metadata": {},
   "outputs": [
    {
     "data": {
      "text/html": [
       "<div>\n",
       "<style scoped>\n",
       "    .dataframe tbody tr th:only-of-type {\n",
       "        vertical-align: middle;\n",
       "    }\n",
       "\n",
       "    .dataframe tbody tr th {\n",
       "        vertical-align: top;\n",
       "    }\n",
       "\n",
       "    .dataframe thead th {\n",
       "        text-align: right;\n",
       "    }\n",
       "</style>\n",
       "<table border=\"1\" class=\"dataframe\">\n",
       "  <thead>\n",
       "    <tr style=\"text-align: right;\">\n",
       "      <th></th>\n",
       "      <th>id</th>\n",
       "      <th>host_id</th>\n",
       "      <th>latitude</th>\n",
       "      <th>longitude</th>\n",
       "      <th>price</th>\n",
       "      <th>minimum_nights</th>\n",
       "      <th>number_of_reviews</th>\n",
       "      <th>reviews_per_month</th>\n",
       "      <th>calculated_host_listings_count</th>\n",
       "      <th>availability_365</th>\n",
       "      <th>number_of_reviews_ltm</th>\n",
       "    </tr>\n",
       "  </thead>\n",
       "  <tbody>\n",
       "    <tr>\n",
       "      <th>count</th>\n",
       "      <td>3.827700e+04</td>\n",
       "      <td>3.827700e+04</td>\n",
       "      <td>38277.000000</td>\n",
       "      <td>38277.000000</td>\n",
       "      <td>38277.000000</td>\n",
       "      <td>38277.000000</td>\n",
       "      <td>38277.000000</td>\n",
       "      <td>28773.000000</td>\n",
       "      <td>38277.000000</td>\n",
       "      <td>38277.000000</td>\n",
       "      <td>38277.000000</td>\n",
       "    </tr>\n",
       "    <tr>\n",
       "      <th>mean</th>\n",
       "      <td>2.962239e+07</td>\n",
       "      <td>1.148305e+08</td>\n",
       "      <td>40.729206</td>\n",
       "      <td>-73.948967</td>\n",
       "      <td>170.858714</td>\n",
       "      <td>21.623769</td>\n",
       "      <td>23.302871</td>\n",
       "      <td>1.721019</td>\n",
       "      <td>17.747655</td>\n",
       "      <td>134.290984</td>\n",
       "      <td>5.032160</td>\n",
       "    </tr>\n",
       "    <tr>\n",
       "      <th>std</th>\n",
       "      <td>1.742239e+07</td>\n",
       "      <td>1.299194e+08</td>\n",
       "      <td>0.055752</td>\n",
       "      <td>0.050759</td>\n",
       "      <td>305.100271</td>\n",
       "      <td>29.573333</td>\n",
       "      <td>50.415484</td>\n",
       "      <td>4.399826</td>\n",
       "      <td>59.150451</td>\n",
       "      <td>143.196175</td>\n",
       "      <td>14.693768</td>\n",
       "    </tr>\n",
       "    <tr>\n",
       "      <th>min</th>\n",
       "      <td>2.595000e+03</td>\n",
       "      <td>2.438000e+03</td>\n",
       "      <td>40.504560</td>\n",
       "      <td>-74.249840</td>\n",
       "      <td>0.000000</td>\n",
       "      <td>1.000000</td>\n",
       "      <td>0.000000</td>\n",
       "      <td>0.010000</td>\n",
       "      <td>1.000000</td>\n",
       "      <td>0.000000</td>\n",
       "      <td>0.000000</td>\n",
       "    </tr>\n",
       "    <tr>\n",
       "      <th>25%</th>\n",
       "      <td>1.341048e+07</td>\n",
       "      <td>1.139462e+07</td>\n",
       "      <td>40.689260</td>\n",
       "      <td>-73.983270</td>\n",
       "      <td>70.000000</td>\n",
       "      <td>3.000000</td>\n",
       "      <td>1.000000</td>\n",
       "      <td>0.120000</td>\n",
       "      <td>1.000000</td>\n",
       "      <td>0.000000</td>\n",
       "      <td>0.000000</td>\n",
       "    </tr>\n",
       "    <tr>\n",
       "      <th>50%</th>\n",
       "      <td>3.081269e+07</td>\n",
       "      <td>5.005297e+07</td>\n",
       "      <td>40.725180</td>\n",
       "      <td>-73.954770</td>\n",
       "      <td>114.000000</td>\n",
       "      <td>30.000000</td>\n",
       "      <td>4.000000</td>\n",
       "      <td>0.480000</td>\n",
       "      <td>1.000000</td>\n",
       "      <td>73.000000</td>\n",
       "      <td>0.000000</td>\n",
       "    </tr>\n",
       "    <tr>\n",
       "      <th>75%</th>\n",
       "      <td>4.642855e+07</td>\n",
       "      <td>2.002395e+08</td>\n",
       "      <td>40.762680</td>\n",
       "      <td>-73.930430</td>\n",
       "      <td>189.000000</td>\n",
       "      <td>30.000000</td>\n",
       "      <td>20.000000</td>\n",
       "      <td>1.780000</td>\n",
       "      <td>3.000000</td>\n",
       "      <td>302.000000</td>\n",
       "      <td>3.000000</td>\n",
       "    </tr>\n",
       "    <tr>\n",
       "      <th>max</th>\n",
       "      <td>5.366510e+07</td>\n",
       "      <td>4.344080e+08</td>\n",
       "      <td>40.914020</td>\n",
       "      <td>-73.710870</td>\n",
       "      <td>10000.000000</td>\n",
       "      <td>1250.000000</td>\n",
       "      <td>1009.000000</td>\n",
       "      <td>141.000000</td>\n",
       "      <td>421.000000</td>\n",
       "      <td>365.000000</td>\n",
       "      <td>669.000000</td>\n",
       "    </tr>\n",
       "  </tbody>\n",
       "</table>\n",
       "</div>"
      ],
      "text/plain": [
       "                 id       host_id      latitude     longitude         price  \\\n",
       "count  3.827700e+04  3.827700e+04  38277.000000  38277.000000  38277.000000   \n",
       "mean   2.962239e+07  1.148305e+08     40.729206    -73.948967    170.858714   \n",
       "std    1.742239e+07  1.299194e+08      0.055752      0.050759    305.100271   \n",
       "min    2.595000e+03  2.438000e+03     40.504560    -74.249840      0.000000   \n",
       "25%    1.341048e+07  1.139462e+07     40.689260    -73.983270     70.000000   \n",
       "50%    3.081269e+07  5.005297e+07     40.725180    -73.954770    114.000000   \n",
       "75%    4.642855e+07  2.002395e+08     40.762680    -73.930430    189.000000   \n",
       "max    5.366510e+07  4.344080e+08     40.914020    -73.710870  10000.000000   \n",
       "\n",
       "       minimum_nights  number_of_reviews  reviews_per_month  \\\n",
       "count    38277.000000       38277.000000       28773.000000   \n",
       "mean        21.623769          23.302871           1.721019   \n",
       "std         29.573333          50.415484           4.399826   \n",
       "min          1.000000           0.000000           0.010000   \n",
       "25%          3.000000           1.000000           0.120000   \n",
       "50%         30.000000           4.000000           0.480000   \n",
       "75%         30.000000          20.000000           1.780000   \n",
       "max       1250.000000        1009.000000         141.000000   \n",
       "\n",
       "       calculated_host_listings_count  availability_365  number_of_reviews_ltm  \n",
       "count                    38277.000000      38277.000000           38277.000000  \n",
       "mean                        17.747655        134.290984               5.032160  \n",
       "std                         59.150451        143.196175              14.693768  \n",
       "min                          1.000000          0.000000               0.000000  \n",
       "25%                          1.000000          0.000000               0.000000  \n",
       "50%                          1.000000         73.000000               0.000000  \n",
       "75%                          3.000000        302.000000               3.000000  \n",
       "max                        421.000000        365.000000             669.000000  "
      ]
     },
     "execution_count": 3,
     "metadata": {},
     "output_type": "execute_result"
    }
   ],
   "source": [
    "df.describe()"
   ]
  },
  {
   "cell_type": "code",
   "execution_count": 4,
   "id": "9b422707",
   "metadata": {},
   "outputs": [
    {
     "data": {
      "text/plain": [
       "id                                  int64\n",
       "name                               object\n",
       "host_id                             int64\n",
       "host_name                          object\n",
       "neighbourhood_group                object\n",
       "neighbourhood                      object\n",
       "latitude                          float64\n",
       "longitude                         float64\n",
       "room_type                          object\n",
       "price                               int64\n",
       "minimum_nights                      int64\n",
       "number_of_reviews                   int64\n",
       "last_review                        object\n",
       "reviews_per_month                 float64\n",
       "calculated_host_listings_count      int64\n",
       "availability_365                    int64\n",
       "number_of_reviews_ltm               int64\n",
       "license                            object\n",
       "dtype: object"
      ]
     },
     "execution_count": 4,
     "metadata": {},
     "output_type": "execute_result"
    }
   ],
   "source": [
    "df.dtypes"
   ]
  },
  {
   "cell_type": "code",
   "execution_count": 5,
   "id": "66413a7c",
   "metadata": {},
   "outputs": [
    {
     "data": {
      "text/plain": [
       "(38277, 18)"
      ]
     },
     "execution_count": 5,
     "metadata": {},
     "output_type": "execute_result"
    }
   ],
   "source": [
    "df.shape"
   ]
  },
  {
   "cell_type": "markdown",
   "id": "dcb13de8",
   "metadata": {},
   "source": [
    "# Exploratory Data Analysis"
   ]
  },
  {
   "cell_type": "markdown",
   "id": "b957ba32",
   "metadata": {},
   "source": [
    "## What can we learn about price and room type  in different areas?"
   ]
  },
  {
   "cell_type": "code",
   "execution_count": 6,
   "id": "6091bc2d",
   "metadata": {},
   "outputs": [
    {
     "data": {
      "image/png": "[encoded data removed]",
      "text/plain": [
       "<Figure size 864x576 with 1 Axes>"
      ]
     },
     "metadata": {
      "needs_background": "light"
     },
     "output_type": "display_data"
    }
   ],
   "source": [
    "fig, ax = plt.subplots(figsize=(12,8))\n",
    "\n",
    "area = sns.barplot(x = 'neighbourhood_group', y = 'price', data = df,hue='room_type',palette=\"CMRmap_r\", ci=None)\n",
    "area.axes.set_title(\"Average Price in  Different Areas\",fontsize=20)\n",
    "area.set_xlabel(\" \")\n",
    "area.set_ylabel(\"Price\", fontsize=15)\n",
    "area.tick_params(labelsize=10)\n",
    "plt.legend(title='Room Type')\n",
    "plt.tight_layout(pad=3.0)"
   ]
  },
  {
   "cell_type": "markdown",
   "id": "4ca9559d",
   "metadata": {},
   "source": [
    "- Manhattan is the area with the most expensive average air bnb price in New York and hotel room as the most expensive room type\n",
    "- In Queens, Shared room is the most expensive room type even more expensive than the one in Manhattan\n",
    "- Hotel room in State Island and Bronx is the cheapest room type"
   ]
  },
  {
   "cell_type": "markdown",
   "id": "22c3a9ee",
   "metadata": {},
   "source": [
    "## How many minimum nights a guest spend based on room type in different areas?"
   ]
  },
  {
   "cell_type": "code",
   "execution_count": 7,
   "id": "c3fdbd50",
   "metadata": {},
   "outputs": [
    {
     "data": {
      "image/png": "[encoded data removed]",
      "text/plain": [
       "<Figure size 864x576 with 1 Axes>"
      ]
     },
     "metadata": {
      "needs_background": "light"
     },
     "output_type": "display_data"
    }
   ],
   "source": [
    "fig, ax = plt.subplots(figsize=(12,8))\n",
    "\n",
    "night = sns.barplot(x = 'neighbourhood_group', y = 'minimum_nights', data = df,hue='room_type',palette=\"CMRmap_r\", ci=None)\n",
    "night.axes.set_title(\"Average Minimum Nights in Different Areas\",fontsize=20)\n",
    "night.set_xlabel(\" \")\n",
    "night.set_ylabel(\"Minimum Nights\", fontsize=15)\n",
    "night.tick_params(labelsize=10)\n",
    "plt.legend(title='Room Type')\n",
    "plt.tight_layout(pad=3.0)"
   ]
  },
  {
   "cell_type": "markdown",
   "id": "622265b5",
   "metadata": {},
   "source": [
    "- Most host with hotel room applies 30 nights minimum policy in Bronx. Based on previous graph, hotel room has cheapest average price per night of air bnb in Bronx\n",
    "- Most host in Manhattan choosed to apply longer minimum nights on entire home/apartment, private room and shared room as they are cheaper than hotel room\n",
    "- Hotel room in State Island is the least desirable place to stay because it has lowest minimum nights among all room type in every area "
   ]
  },
  {
   "cell_type": "markdown",
   "id": "5c0cedc6",
   "metadata": {},
   "source": [
    "## What is the average host listing count of each room type in every area ?"
   ]
  },
  {
   "cell_type": "code",
   "execution_count": 8,
   "id": "5a7cd782",
   "metadata": {},
   "outputs": [
    {
     "data": {
      "image/png": "[encoded data removed]",
      "text/plain": [
       "<Figure size 864x576 with 1 Axes>"
      ]
     },
     "metadata": {
      "needs_background": "light"
     },
     "output_type": "display_data"
    }
   ],
   "source": [
    "fig, ax = plt.subplots(figsize=(12,8))\n",
    "\n",
    "host = sns.barplot(x = 'neighbourhood_group', y = 'number_of_reviews', data = df,hue='room_type',palette=\"CMRmap_r\", ci=None)\n",
    "host.axes.set_title(\"Average Number of Review in Different Areas\",fontsize=20)\n",
    "host.set_xlabel(\" \")\n",
    "host.set_ylabel(\"average number of review\", fontsize=15)\n",
    "host.tick_params(labelsize=10)\n",
    "host.legend(title='Room Type')\n",
    "plt.tight_layout(pad=3.0)"
   ]
  },
  {
   "cell_type": "markdown",
   "id": "c04722dc",
   "metadata": {},
   "source": [
    "- Hotel in Manhattan has highest average number of review. It indicates that hotel is the most favorite place to stay in Manhattan\n",
    "- Hotel in Bronx and State Island has the lowest average number of review. It indicates that hotel is the least favorite place to stay in State Island and Bronx guest prever to stay in entire home/apartment or private room\n",
    "- Guest prever to stay in entire home/apartment or private room in State Island indicated by highest number of average review from all area\n"
   ]
  },
  {
   "cell_type": "markdown",
   "id": "1e9df92f",
   "metadata": {},
   "source": [
    "## What is the average availability of each room type in every area ?"
   ]
  },
  {
   "cell_type": "code",
   "execution_count": 5,
   "id": "9ae5bd0a",
   "metadata": {},
   "outputs": [
    {
     "data": {
      "image/png": "[encoded data removed]",
      "text/plain": [
       "<Figure size 864x576 with 1 Axes>"
      ]
     },
     "metadata": {
      "needs_background": "light"
     },
     "output_type": "display_data"
    }
   ],
   "source": [
    "fig, ax = plt.subplots(figsize=(12,8))\n",
    "\n",
    "avl = sns.barplot(x = 'neighbourhood_group', y = 'availability_365', data = df,hue='room_type',palette=\"CMRmap_r\", ci=None)\n",
    "avl.axes.set_title(\"Average Room Availability in Different Areas\",fontsize=20)\n",
    "avl.set_xlabel(\" \")\n",
    "avl.set_ylabel(\"Average Room Availability\", fontsize=15)\n",
    "avl.tick_params(labelsize=10)\n",
    "avl.legend(title='Room Type')\n",
    "plt.tight_layout(pad=3.0)"
   ]
  },
  {
   "cell_type": "markdown",
   "id": "de37497b",
   "metadata": {},
   "source": [
    "- Hotel room in Queens has the highest availability in 1 year among all area\n",
    "- Hotel room and shared room have the highest availability in Manhattan, Brooklyn and Queens\n",
    "- Hotel room have lowest availability in State Island and Bronx"
   ]
  },
  {
   "cell_type": "markdown",
   "id": "91ad9422",
   "metadata": {},
   "source": [
    "# Data Preprocessing"
   ]
  },
  {
   "cell_type": "markdown",
   "id": "0eb62f95",
   "metadata": {},
   "source": [
    "## Feature Selection"
   ]
  },
  {
   "cell_type": "markdown",
   "id": "558018e3",
   "metadata": {},
   "source": [
    "to avoid overfitting and reduce noise in regression model, we will choose a feature that mostly affect price of airbnb properties. Among of them are: location, room type, minimum nights, availabilityand number of reviews"
   ]
  },
  {
   "cell_type": "code",
   "execution_count": 9,
   "id": "022fd4df",
   "metadata": {},
   "outputs": [],
   "source": [
    "df = df[['neighbourhood_group','room_type','minimum_nights','number_of_reviews','availability_365','price']]"
   ]
  },
  {
   "cell_type": "markdown",
   "id": "9c6a0076",
   "metadata": {},
   "source": [
    "## Missing Value Handling"
   ]
  },
  {
   "cell_type": "code",
   "execution_count": 10,
   "id": "f13267c9",
   "metadata": {},
   "outputs": [
    {
     "data": {
      "text/plain": [
       "neighbourhood_group    0\n",
       "room_type              0\n",
       "minimum_nights         0\n",
       "number_of_reviews      0\n",
       "availability_365       0\n",
       "price                  0\n",
       "dtype: int64"
      ]
     },
     "execution_count": 10,
     "metadata": {},
     "output_type": "execute_result"
    }
   ],
   "source": [
    "#finding missing value \n",
    "df.isnull().sum()"
   ]
  },
  {
   "cell_type": "code",
   "execution_count": 11,
   "id": "53a87608",
   "metadata": {},
   "outputs": [
    {
     "data": {
      "text/plain": [
       "neighbourhood_group    0\n",
       "room_type              0\n",
       "minimum_nights         0\n",
       "number_of_reviews      0\n",
       "availability_365       0\n",
       "price                  0\n",
       "dtype: int64"
      ]
     },
     "execution_count": 11,
     "metadata": {},
     "output_type": "execute_result"
    }
   ],
   "source": [
    "df.isnull().sum()"
   ]
  },
  {
   "cell_type": "markdown",
   "id": "bda8f0ea",
   "metadata": {},
   "source": [
    "No missing value found"
   ]
  },
  {
   "cell_type": "markdown",
   "id": "7e558a80",
   "metadata": {},
   "source": [
    "## Outlier Handling"
   ]
  },
  {
   "cell_type": "code",
   "execution_count": 12,
   "id": "f31ad725",
   "metadata": {},
   "outputs": [
    {
     "data": {
      "text/plain": [
       "<AxesSubplot:xlabel='price'>"
      ]
     },
     "execution_count": 12,
     "metadata": {},
     "output_type": "execute_result"
    },
    {
     "data": {
      "image/png": "[encoded data removed]",
      "text/plain": [
       "<Figure size 1080x720 with 4 Axes>"
      ]
     },
     "metadata": {
      "needs_background": "light"
     },
     "output_type": "display_data"
    }
   ],
   "source": [
    "#Detecting outlier\n",
    "fig, ax = plt.subplots(2,2,figsize=(15,10))\n",
    "\n",
    "sns.boxplot(x=df['minimum_nights'], ax=ax[0,0])\n",
    "sns.boxplot(x=df['number_of_reviews'], ax=ax[0,1])\n",
    "sns.boxplot(x=df['availability_365'], ax=ax[1,0])\n",
    "sns.boxplot(x=df['price'], ax=ax[1,1])"
   ]
  },
  {
   "cell_type": "markdown",
   "id": "8b4defe2",
   "metadata": {},
   "source": [
    "## Removing Outlier"
   ]
  },
  {
   "cell_type": "code",
   "execution_count": 29,
   "id": "43cafc00",
   "metadata": {},
   "outputs": [],
   "source": [
    "#Minimum Nights\n",
    "Q1 = df['minimum_nights'].quantile(0.25)\n",
    "Q3 = df['minimum_nights'].quantile(0.75)\n",
    "IQR = Q3 - Q1\n",
    "Lower_Bound = Q1 - (1.5*IQR)\n",
    "Upper_Bound = Q3 + (1.5*IQR)\n",
    "df = df[(df['minimum_nights'] < Upper_Bound) & (df['minimum_nights'] > Lower_Bound)]\n",
    "\n",
    "#Number of Reviews\n",
    "Q1 = df['number_of_reviews'].quantile(0.25)\n",
    "Q3 = df['number_of_reviews'].quantile(0.75)\n",
    "IQR = Q3 - Q1\n",
    "Lower_Bound = Q1 - (1.5*IQR)\n",
    "Upper_Bound = Q3 + (1.5*IQR)\n",
    "df = df[(df['number_of_reviews'] < Upper_Bound) & (df['number_of_reviews'] > Lower_Bound)]\n",
    "\n",
    "#Price\n",
    "Q1 = df['price'].quantile(0.25)\n",
    "Q3 = df['price'].quantile(0.75)\n",
    "IQR = Q3 - Q1\n",
    "Lower_Bound = Q1 - (1.5*IQR)\n",
    "Upper_Bound = Q3 + (1.5*IQR)\n",
    "df = df[(df['price'] < Upper_Bound) & (df['price'] > Lower_Bound)]"
   ]
  },
  {
   "cell_type": "code",
   "execution_count": 30,
   "id": "5a6a5307",
   "metadata": {},
   "outputs": [
    {
     "data": {
      "text/plain": [
       "<AxesSubplot:xlabel='price'>"
      ]
     },
     "execution_count": 30,
     "metadata": {},
     "output_type": "execute_result"
    },
    {
     "data": {
      "image/png": "[encoded data removed]",
      "text/plain": [
       "<Figure size 1080x720 with 4 Axes>"
      ]
     },
     "metadata": {
      "needs_background": "light"
     },
     "output_type": "display_data"
    }
   ],
   "source": [
    "#Detecting outlier\n",
    "fig, ax = plt.subplots(2,2,figsize=(15,10))\n",
    "\n",
    "sns.boxplot(x=df['minimum_nights'], ax=ax[0,0])\n",
    "sns.boxplot(x=df['number_of_reviews'], ax=ax[0,1])\n",
    "sns.boxplot(x=df['availability_365'], ax=ax[1,0])\n",
    "sns.boxplot(x=df['price'], ax=ax[1,1])"
   ]
  },
  {
   "cell_type": "markdown",
   "id": "cde048c5",
   "metadata": {},
   "source": [
    "No outlier found"
   ]
  },
  {
   "cell_type": "markdown",
   "id": "12da9a30",
   "metadata": {},
   "source": [
    "## Categorical Data Encoding (One-Hot Encoding)"
   ]
  },
  {
   "cell_type": "code",
   "execution_count": 31,
   "id": "fd0feb07",
   "metadata": {},
   "outputs": [],
   "source": [
    "#menggunakan one-hot encoding\n",
    "df_encoded = pd.get_dummies(df, columns=['neighbourhood_group','room_type'], prefix = ['neighbourhood_group','room_type'])"
   ]
  },
  {
   "cell_type": "code",
   "execution_count": 32,
   "id": "2f530ae0",
   "metadata": {},
   "outputs": [
    {
     "data": {
      "text/html": [
       "<div>\n",
       "<style scoped>\n",
       "    .dataframe tbody tr th:only-of-type {\n",
       "        vertical-align: middle;\n",
       "    }\n",
       "\n",
       "    .dataframe tbody tr th {\n",
       "        vertical-align: top;\n",
       "    }\n",
       "\n",
       "    .dataframe thead th {\n",
       "        text-align: right;\n",
       "    }\n",
       "</style>\n",
       "<table border=\"1\" class=\"dataframe\">\n",
       "  <thead>\n",
       "    <tr style=\"text-align: right;\">\n",
       "      <th></th>\n",
       "      <th>minimum_nights</th>\n",
       "      <th>number_of_reviews</th>\n",
       "      <th>availability_365</th>\n",
       "      <th>price</th>\n",
       "      <th>neighbourhood_group_Bronx</th>\n",
       "      <th>neighbourhood_group_Brooklyn</th>\n",
       "      <th>neighbourhood_group_Manhattan</th>\n",
       "      <th>neighbourhood_group_Queens</th>\n",
       "      <th>neighbourhood_group_Staten Island</th>\n",
       "      <th>room_type_Entire home/apt</th>\n",
       "      <th>room_type_Hotel room</th>\n",
       "      <th>room_type_Private room</th>\n",
       "      <th>room_type_Shared room</th>\n",
       "    </tr>\n",
       "  </thead>\n",
       "  <tbody>\n",
       "    <tr>\n",
       "      <th>3</th>\n",
       "      <td>5</td>\n",
       "      <td>2</td>\n",
       "      <td>123</td>\n",
       "      <td>275</td>\n",
       "      <td>0</td>\n",
       "      <td>1</td>\n",
       "      <td>0</td>\n",
       "      <td>0</td>\n",
       "      <td>0</td>\n",
       "      <td>1</td>\n",
       "      <td>0</td>\n",
       "      <td>0</td>\n",
       "      <td>0</td>\n",
       "    </tr>\n",
       "    <tr>\n",
       "      <th>8</th>\n",
       "      <td>30</td>\n",
       "      <td>0</td>\n",
       "      <td>365</td>\n",
       "      <td>65</td>\n",
       "      <td>0</td>\n",
       "      <td>0</td>\n",
       "      <td>1</td>\n",
       "      <td>0</td>\n",
       "      <td>0</td>\n",
       "      <td>0</td>\n",
       "      <td>0</td>\n",
       "      <td>1</td>\n",
       "      <td>0</td>\n",
       "    </tr>\n",
       "    <tr>\n",
       "      <th>10</th>\n",
       "      <td>27</td>\n",
       "      <td>9</td>\n",
       "      <td>271</td>\n",
       "      <td>90</td>\n",
       "      <td>0</td>\n",
       "      <td>1</td>\n",
       "      <td>0</td>\n",
       "      <td>0</td>\n",
       "      <td>0</td>\n",
       "      <td>0</td>\n",
       "      <td>0</td>\n",
       "      <td>1</td>\n",
       "      <td>0</td>\n",
       "    </tr>\n",
       "    <tr>\n",
       "      <th>12</th>\n",
       "      <td>30</td>\n",
       "      <td>0</td>\n",
       "      <td>178</td>\n",
       "      <td>96</td>\n",
       "      <td>0</td>\n",
       "      <td>0</td>\n",
       "      <td>1</td>\n",
       "      <td>0</td>\n",
       "      <td>0</td>\n",
       "      <td>0</td>\n",
       "      <td>0</td>\n",
       "      <td>1</td>\n",
       "      <td>0</td>\n",
       "    </tr>\n",
       "    <tr>\n",
       "      <th>13</th>\n",
       "      <td>30</td>\n",
       "      <td>9</td>\n",
       "      <td>365</td>\n",
       "      <td>299</td>\n",
       "      <td>0</td>\n",
       "      <td>1</td>\n",
       "      <td>0</td>\n",
       "      <td>0</td>\n",
       "      <td>0</td>\n",
       "      <td>1</td>\n",
       "      <td>0</td>\n",
       "      <td>0</td>\n",
       "      <td>0</td>\n",
       "    </tr>\n",
       "  </tbody>\n",
       "</table>\n",
       "</div>"
      ],
      "text/plain": [
       "    minimum_nights  number_of_reviews  availability_365  price  \\\n",
       "3                5                  2               123    275   \n",
       "8               30                  0               365     65   \n",
       "10              27                  9               271     90   \n",
       "12              30                  0               178     96   \n",
       "13              30                  9               365    299   \n",
       "\n",
       "    neighbourhood_group_Bronx  neighbourhood_group_Brooklyn  \\\n",
       "3                           0                             1   \n",
       "8                           0                             0   \n",
       "10                          0                             1   \n",
       "12                          0                             0   \n",
       "13                          0                             1   \n",
       "\n",
       "    neighbourhood_group_Manhattan  neighbourhood_group_Queens  \\\n",
       "3                               0                           0   \n",
       "8                               1                           0   \n",
       "10                              0                           0   \n",
       "12                              1                           0   \n",
       "13                              0                           0   \n",
       "\n",
       "    neighbourhood_group_Staten Island  room_type_Entire home/apt  \\\n",
       "3                                   0                          1   \n",
       "8                                   0                          0   \n",
       "10                                  0                          0   \n",
       "12                                  0                          0   \n",
       "13                                  0                          1   \n",
       "\n",
       "    room_type_Hotel room  room_type_Private room  room_type_Shared room  \n",
       "3                      0                       0                      0  \n",
       "8                      0                       1                      0  \n",
       "10                     0                       1                      0  \n",
       "12                     0                       1                      0  \n",
       "13                     0                       0                      0  "
      ]
     },
     "execution_count": 32,
     "metadata": {},
     "output_type": "execute_result"
    }
   ],
   "source": [
    "df_encoded.head()"
   ]
  },
  {
   "cell_type": "markdown",
   "id": "82a84082",
   "metadata": {},
   "source": [
    "## Numeric Distribution and Normalization"
   ]
  },
  {
   "cell_type": "code",
   "execution_count": 33,
   "id": "96e4c4e4",
   "metadata": {},
   "outputs": [
    {
     "data": {
      "image/png": "[encoded data removed]",
      "text/plain": [
       "<Figure size 720x720 with 4 Axes>"
      ]
     },
     "metadata": {
      "needs_background": "light"
     },
     "output_type": "display_data"
    }
   ],
   "source": [
    "h = df_encoded[[\"minimum_nights\",'number_of_reviews','availability_365','price']].hist(bins=25,figsize=(10,10),xlabelsize='10',ylabelsize='10',xrot=-15)\n",
    "sns.despine(left=True, bottom=True)\n",
    "[x.title.set_size(12) for x in h.ravel()];\n",
    "[x.yaxis.tick_left() for x in h.ravel()];\n",
    "#because data is not normally distributed, normalization will be used"
   ]
  },
  {
   "cell_type": "code",
   "execution_count": 34,
   "id": "6d59e33a",
   "metadata": {},
   "outputs": [
    {
     "data": {
      "text/html": [
       "<div>\n",
       "<style scoped>\n",
       "    .dataframe tbody tr th:only-of-type {\n",
       "        vertical-align: middle;\n",
       "    }\n",
       "\n",
       "    .dataframe tbody tr th {\n",
       "        vertical-align: top;\n",
       "    }\n",
       "\n",
       "    .dataframe thead th {\n",
       "        text-align: right;\n",
       "    }\n",
       "</style>\n",
       "<table border=\"1\" class=\"dataframe\">\n",
       "  <thead>\n",
       "    <tr style=\"text-align: right;\">\n",
       "      <th></th>\n",
       "      <th>minimum_nights</th>\n",
       "      <th>number_of_reviews</th>\n",
       "      <th>availability_365</th>\n",
       "      <th>price</th>\n",
       "      <th>neighbourhood_group_Bronx</th>\n",
       "      <th>neighbourhood_group_Brooklyn</th>\n",
       "      <th>neighbourhood_group_Manhattan</th>\n",
       "      <th>neighbourhood_group_Queens</th>\n",
       "      <th>neighbourhood_group_Staten Island</th>\n",
       "      <th>room_type_Entire home/apt</th>\n",
       "      <th>room_type_Hotel room</th>\n",
       "      <th>room_type_Private room</th>\n",
       "      <th>room_type_Shared room</th>\n",
       "    </tr>\n",
       "  </thead>\n",
       "  <tbody>\n",
       "    <tr>\n",
       "      <th>3</th>\n",
       "      <td>0.078125</td>\n",
       "      <td>0.222222</td>\n",
       "      <td>0.336986</td>\n",
       "      <td>0.901639</td>\n",
       "      <td>0.0</td>\n",
       "      <td>1.0</td>\n",
       "      <td>0.0</td>\n",
       "      <td>0.0</td>\n",
       "      <td>0.0</td>\n",
       "      <td>1.0</td>\n",
       "      <td>0.0</td>\n",
       "      <td>0.0</td>\n",
       "      <td>0.0</td>\n",
       "    </tr>\n",
       "    <tr>\n",
       "      <th>8</th>\n",
       "      <td>0.468750</td>\n",
       "      <td>0.000000</td>\n",
       "      <td>1.000000</td>\n",
       "      <td>0.213115</td>\n",
       "      <td>0.0</td>\n",
       "      <td>0.0</td>\n",
       "      <td>1.0</td>\n",
       "      <td>0.0</td>\n",
       "      <td>0.0</td>\n",
       "      <td>0.0</td>\n",
       "      <td>0.0</td>\n",
       "      <td>1.0</td>\n",
       "      <td>0.0</td>\n",
       "    </tr>\n",
       "    <tr>\n",
       "      <th>10</th>\n",
       "      <td>0.421875</td>\n",
       "      <td>1.000000</td>\n",
       "      <td>0.742466</td>\n",
       "      <td>0.295082</td>\n",
       "      <td>0.0</td>\n",
       "      <td>1.0</td>\n",
       "      <td>0.0</td>\n",
       "      <td>0.0</td>\n",
       "      <td>0.0</td>\n",
       "      <td>0.0</td>\n",
       "      <td>0.0</td>\n",
       "      <td>1.0</td>\n",
       "      <td>0.0</td>\n",
       "    </tr>\n",
       "    <tr>\n",
       "      <th>12</th>\n",
       "      <td>0.468750</td>\n",
       "      <td>0.000000</td>\n",
       "      <td>0.487671</td>\n",
       "      <td>0.314754</td>\n",
       "      <td>0.0</td>\n",
       "      <td>0.0</td>\n",
       "      <td>1.0</td>\n",
       "      <td>0.0</td>\n",
       "      <td>0.0</td>\n",
       "      <td>0.0</td>\n",
       "      <td>0.0</td>\n",
       "      <td>1.0</td>\n",
       "      <td>0.0</td>\n",
       "    </tr>\n",
       "    <tr>\n",
       "      <th>13</th>\n",
       "      <td>0.468750</td>\n",
       "      <td>1.000000</td>\n",
       "      <td>1.000000</td>\n",
       "      <td>0.980328</td>\n",
       "      <td>0.0</td>\n",
       "      <td>1.0</td>\n",
       "      <td>0.0</td>\n",
       "      <td>0.0</td>\n",
       "      <td>0.0</td>\n",
       "      <td>1.0</td>\n",
       "      <td>0.0</td>\n",
       "      <td>0.0</td>\n",
       "      <td>0.0</td>\n",
       "    </tr>\n",
       "    <tr>\n",
       "      <th>...</th>\n",
       "      <td>...</td>\n",
       "      <td>...</td>\n",
       "      <td>...</td>\n",
       "      <td>...</td>\n",
       "      <td>...</td>\n",
       "      <td>...</td>\n",
       "      <td>...</td>\n",
       "      <td>...</td>\n",
       "      <td>...</td>\n",
       "      <td>...</td>\n",
       "      <td>...</td>\n",
       "      <td>...</td>\n",
       "      <td>...</td>\n",
       "    </tr>\n",
       "    <tr>\n",
       "      <th>38271</th>\n",
       "      <td>0.468750</td>\n",
       "      <td>0.000000</td>\n",
       "      <td>0.254795</td>\n",
       "      <td>0.193443</td>\n",
       "      <td>0.0</td>\n",
       "      <td>1.0</td>\n",
       "      <td>0.0</td>\n",
       "      <td>0.0</td>\n",
       "      <td>0.0</td>\n",
       "      <td>0.0</td>\n",
       "      <td>0.0</td>\n",
       "      <td>1.0</td>\n",
       "      <td>0.0</td>\n",
       "    </tr>\n",
       "    <tr>\n",
       "      <th>38272</th>\n",
       "      <td>0.015625</td>\n",
       "      <td>0.000000</td>\n",
       "      <td>0.983562</td>\n",
       "      <td>0.259016</td>\n",
       "      <td>0.0</td>\n",
       "      <td>0.0</td>\n",
       "      <td>0.0</td>\n",
       "      <td>0.0</td>\n",
       "      <td>1.0</td>\n",
       "      <td>0.0</td>\n",
       "      <td>0.0</td>\n",
       "      <td>1.0</td>\n",
       "      <td>0.0</td>\n",
       "    </tr>\n",
       "    <tr>\n",
       "      <th>38273</th>\n",
       "      <td>0.015625</td>\n",
       "      <td>0.000000</td>\n",
       "      <td>0.983562</td>\n",
       "      <td>0.249180</td>\n",
       "      <td>0.0</td>\n",
       "      <td>0.0</td>\n",
       "      <td>0.0</td>\n",
       "      <td>0.0</td>\n",
       "      <td>1.0</td>\n",
       "      <td>0.0</td>\n",
       "      <td>0.0</td>\n",
       "      <td>1.0</td>\n",
       "      <td>0.0</td>\n",
       "    </tr>\n",
       "    <tr>\n",
       "      <th>38274</th>\n",
       "      <td>0.015625</td>\n",
       "      <td>0.000000</td>\n",
       "      <td>0.030137</td>\n",
       "      <td>0.380328</td>\n",
       "      <td>0.0</td>\n",
       "      <td>0.0</td>\n",
       "      <td>1.0</td>\n",
       "      <td>0.0</td>\n",
       "      <td>0.0</td>\n",
       "      <td>0.0</td>\n",
       "      <td>0.0</td>\n",
       "      <td>1.0</td>\n",
       "      <td>0.0</td>\n",
       "    </tr>\n",
       "    <tr>\n",
       "      <th>38275</th>\n",
       "      <td>0.015625</td>\n",
       "      <td>0.000000</td>\n",
       "      <td>0.008219</td>\n",
       "      <td>0.347541</td>\n",
       "      <td>0.0</td>\n",
       "      <td>0.0</td>\n",
       "      <td>1.0</td>\n",
       "      <td>0.0</td>\n",
       "      <td>0.0</td>\n",
       "      <td>0.0</td>\n",
       "      <td>0.0</td>\n",
       "      <td>1.0</td>\n",
       "      <td>0.0</td>\n",
       "    </tr>\n",
       "  </tbody>\n",
       "</table>\n",
       "<p>21381 rows × 13 columns</p>\n",
       "</div>"
      ],
      "text/plain": [
       "       minimum_nights  number_of_reviews  availability_365     price  \\\n",
       "3            0.078125           0.222222          0.336986  0.901639   \n",
       "8            0.468750           0.000000          1.000000  0.213115   \n",
       "10           0.421875           1.000000          0.742466  0.295082   \n",
       "12           0.468750           0.000000          0.487671  0.314754   \n",
       "13           0.468750           1.000000          1.000000  0.980328   \n",
       "...               ...                ...               ...       ...   \n",
       "38271        0.468750           0.000000          0.254795  0.193443   \n",
       "38272        0.015625           0.000000          0.983562  0.259016   \n",
       "38273        0.015625           0.000000          0.983562  0.249180   \n",
       "38274        0.015625           0.000000          0.030137  0.380328   \n",
       "38275        0.015625           0.000000          0.008219  0.347541   \n",
       "\n",
       "       neighbourhood_group_Bronx  neighbourhood_group_Brooklyn  \\\n",
       "3                            0.0                           1.0   \n",
       "8                            0.0                           0.0   \n",
       "10                           0.0                           1.0   \n",
       "12                           0.0                           0.0   \n",
       "13                           0.0                           1.0   \n",
       "...                          ...                           ...   \n",
       "38271                        0.0                           1.0   \n",
       "38272                        0.0                           0.0   \n",
       "38273                        0.0                           0.0   \n",
       "38274                        0.0                           0.0   \n",
       "38275                        0.0                           0.0   \n",
       "\n",
       "       neighbourhood_group_Manhattan  neighbourhood_group_Queens  \\\n",
       "3                                0.0                         0.0   \n",
       "8                                1.0                         0.0   \n",
       "10                               0.0                         0.0   \n",
       "12                               1.0                         0.0   \n",
       "13                               0.0                         0.0   \n",
       "...                              ...                         ...   \n",
       "38271                            0.0                         0.0   \n",
       "38272                            0.0                         0.0   \n",
       "38273                            0.0                         0.0   \n",
       "38274                            1.0                         0.0   \n",
       "38275                            1.0                         0.0   \n",
       "\n",
       "       neighbourhood_group_Staten Island  room_type_Entire home/apt  \\\n",
       "3                                    0.0                        1.0   \n",
       "8                                    0.0                        0.0   \n",
       "10                                   0.0                        0.0   \n",
       "12                                   0.0                        0.0   \n",
       "13                                   0.0                        1.0   \n",
       "...                                  ...                        ...   \n",
       "38271                                0.0                        0.0   \n",
       "38272                                1.0                        0.0   \n",
       "38273                                1.0                        0.0   \n",
       "38274                                0.0                        0.0   \n",
       "38275                                0.0                        0.0   \n",
       "\n",
       "       room_type_Hotel room  room_type_Private room  room_type_Shared room  \n",
       "3                       0.0                     0.0                    0.0  \n",
       "8                       0.0                     1.0                    0.0  \n",
       "10                      0.0                     1.0                    0.0  \n",
       "12                      0.0                     1.0                    0.0  \n",
       "13                      0.0                     0.0                    0.0  \n",
       "...                     ...                     ...                    ...  \n",
       "38271                   0.0                     1.0                    0.0  \n",
       "38272                   0.0                     1.0                    0.0  \n",
       "38273                   0.0                     1.0                    0.0  \n",
       "38274                   0.0                     1.0                    0.0  \n",
       "38275                   0.0                     1.0                    0.0  \n",
       "\n",
       "[21381 rows x 13 columns]"
      ]
     },
     "metadata": {},
     "output_type": "display_data"
    }
   ],
   "source": [
    "#Normalization\n",
    "\n",
    "#Copy data\n",
    "df_max_scaled = df_encoded.copy()\n",
    "  \n",
    "#Normalization qith maximum absolute scaling\n",
    "for column in df_max_scaled.columns:\n",
    "    df_max_scaled[column] = df_max_scaled[column]  / df_max_scaled[column].abs().max()\n",
    "      \n",
    "\n",
    "display(df_max_scaled)"
   ]
  },
  {
   "cell_type": "markdown",
   "id": "6381c23a",
   "metadata": {},
   "source": [
    "# Modelling (Regularized Regression)"
   ]
  },
  {
   "cell_type": "markdown",
   "id": "8c1b88fc",
   "metadata": {},
   "source": [
    "## Split Data"
   ]
  },
  {
   "cell_type": "code",
   "execution_count": 35,
   "id": "b2796e4c",
   "metadata": {},
   "outputs": [],
   "source": [
    "#Determining Dependent and Independent Variable\n",
    "x = df_max_scaled.drop(['price'], axis=1)\n",
    "y = df_max_scaled['price']"
   ]
  },
  {
   "cell_type": "code",
   "execution_count": 36,
   "id": "9d429bba",
   "metadata": {},
   "outputs": [],
   "source": [
    "#Splitting 80% data as train data and 20% data as test data\n",
    "x_train, x_test, y_train, y_test = train_test_split(x, y, test_size = 0.20, random_state = 42)"
   ]
  },
  {
   "cell_type": "markdown",
   "id": "3769aa6c",
   "metadata": {},
   "source": [
    "## Ridge Regression"
   ]
  },
  {
   "cell_type": "code",
   "execution_count": 37,
   "id": "9ff8690e",
   "metadata": {},
   "outputs": [
    {
     "data": {
      "text/plain": [
       "Ridge(alpha=1)"
      ]
     },
     "execution_count": 37,
     "metadata": {},
     "output_type": "execute_result"
    }
   ],
   "source": [
    "#assuming alpha = 1\n",
    "ridge=Ridge(alpha = 1)\n",
    "ridge.fit(x_train,y_train)"
   ]
  },
  {
   "cell_type": "code",
   "execution_count": 38,
   "id": "8f2f0dee",
   "metadata": {},
   "outputs": [
    {
     "name": "stdout",
     "output_type": "stream",
     "text": [
      "MSE Train  0.03013731512636823\n",
      "RMSE Train  0.17360102282638842\n",
      "R2 Train  0.41476365672522464\n",
      "MSE Test  0.029768126413754845\n",
      "RMSE Test  0.1725344209534864\n",
      "R2 Test  0.41513867065189725\n"
     ]
    }
   ],
   "source": [
    "#create model on train data\n",
    "y_train_pred=ridge.predict(x_train)\n",
    "\n",
    "#evaluating model on train data with RMSE dan r2\n",
    "print('MSE Train ',mean_squared_error(y_train,y_train_pred)) \n",
    "print('RMSE Train ',np.sqrt(mean_squared_error(y_train,y_train_pred)))\n",
    "print('R2 Train ',r2_score(y_train, y_train_pred))\n",
    "\n",
    "##evaluating model on test data with RMSE dan r2\n",
    "y_test_pred= ridge.predict(x_test)\n",
    "print('MSE Test ',mean_squared_error(y_test,y_test_pred)) \n",
    "print('RMSE Test ',np.sqrt(mean_squared_error(y_test,y_test_pred))) \n",
    "print('R2 Test ',r2_score(y_test, y_test_pred))"
   ]
  },
  {
   "cell_type": "markdown",
   "id": "3cdc4738",
   "metadata": {},
   "source": [
    "## Lasso Regression"
   ]
  },
  {
   "cell_type": "code",
   "execution_count": 53,
   "id": "da4eb6aa",
   "metadata": {},
   "outputs": [
    {
     "data": {
      "text/plain": [
       "Lasso(alpha=0.001)"
      ]
     },
     "execution_count": 53,
     "metadata": {},
     "output_type": "execute_result"
    }
   ],
   "source": [
    "#assuming alpha = 0.001\n",
    "lasso=Lasso(alpha = 0.001)\n",
    "lasso.fit(x_train,y_train)"
   ]
  },
  {
   "cell_type": "code",
   "execution_count": 54,
   "id": "4df24442",
   "metadata": {},
   "outputs": [
    {
     "name": "stdout",
     "output_type": "stream",
     "text": [
      "MSE Train  0.030263515766148167\n",
      "RMSE Train  0.17396412206586784\n",
      "R2 Train  0.4123129672515917\n",
      "MSE Test  0.029837216231499614\n",
      "RMSE Test  0.17273452530255673\n",
      "R2 Test  0.41378124687288664\n"
     ]
    }
   ],
   "source": [
    "#create model on train data\n",
    "y_train_pred=lasso.predict(x_train)\n",
    "\n",
    "#evaluating model on train data with RMSE dan r2\n",
    "print('MSE Train ',mean_squared_error(y_train,y_train_pred))\n",
    "print('RMSE Train ',np.sqrt(mean_squared_error(y_train,y_train_pred)))\n",
    "print('R2 Train ',r2_score(y_train, y_train_pred))\n",
    "\n",
    "##evaluating model on test data with RMSE dan r2\n",
    "y_test_pred= lasso.predict(x_test)\n",
    "print('MSE Test ',mean_squared_error(y_test,y_test_pred))\n",
    "print('RMSE Test ',np.sqrt(mean_squared_error(y_test,y_test_pred))) \n",
    "print('R2 Test ',r2_score(y_test, y_test_pred))"
   ]
  },
  {
   "cell_type": "markdown",
   "id": "b12aec6d",
   "metadata": {},
   "source": [
    "# Hyperparameter Tuning"
   ]
  },
  {
   "cell_type": "markdown",
   "id": "9e385bde",
   "metadata": {},
   "source": [
    "Finding the best alpha for each regression model"
   ]
  },
  {
   "cell_type": "markdown",
   "id": "45e74aaa",
   "metadata": {},
   "source": [
    "## Ridge Regression"
   ]
  },
  {
   "cell_type": "code",
   "execution_count": 55,
   "id": "203f9a55",
   "metadata": {},
   "outputs": [
    {
     "name": "stdout",
     "output_type": "stream",
     "text": [
      "Fitting 5 folds for each of 4 candidates, totalling 20 fits\n"
     ]
    },
    {
     "data": {
      "text/plain": [
       "GridSearchCV(cv=KFold(n_splits=5, random_state=42, shuffle=True),\n",
       "             estimator=Ridge(), param_grid={'alpha': [0.001, 0.01, 0.1, 1]},\n",
       "             return_train_score=True, scoring='r2', verbose=1)"
      ]
     },
     "execution_count": 55,
     "metadata": {},
     "output_type": "execute_result"
    }
   ],
   "source": [
    "folds=KFold(n_splits=5, shuffle=True, random_state=42)\n",
    "\n",
    "#range hyperparameters\n",
    "params={'alpha':[0.001,0.01,0.1,1]}\n",
    "\n",
    "#Ridge model\n",
    "model=Ridge()\n",
    "\n",
    "#gridsearchcv\n",
    "model_cv=GridSearchCV(estimator=model,param_grid=params,scoring='r2',cv=folds,return_train_score=True,verbose=1)\n",
    "model_cv.fit(x_train,y_train)"
   ]
  },
  {
   "cell_type": "code",
   "execution_count": 56,
   "id": "5aa8552f",
   "metadata": {},
   "outputs": [
    {
     "data": {
      "text/plain": [
       "{'alpha': 1}"
      ]
     },
     "execution_count": 56,
     "metadata": {},
     "output_type": "execute_result"
    }
   ],
   "source": [
    "#checking best alpha value\n",
    "model_cv.best_params_"
   ]
  },
  {
   "cell_type": "markdown",
   "id": "62a6455e",
   "metadata": {},
   "source": [
    "Best alpha for ridge regression model is 1"
   ]
  },
  {
   "cell_type": "markdown",
   "id": "d4a456ed",
   "metadata": {},
   "source": [
    "## Lasso Regression"
   ]
  },
  {
   "cell_type": "code",
   "execution_count": 58,
   "id": "ea3266df",
   "metadata": {},
   "outputs": [
    {
     "name": "stdout",
     "output_type": "stream",
     "text": [
      "Fitting 5 folds for each of 4 candidates, totalling 20 fits\n"
     ]
    },
    {
     "data": {
      "text/plain": [
       "GridSearchCV(cv=KFold(n_splits=5, random_state=42, shuffle=True),\n",
       "             estimator=Lasso(), param_grid={'alpha': [0.001, 0.01, 0.1, 1]},\n",
       "             return_train_score=True, scoring='r2', verbose=1)"
      ]
     },
     "execution_count": 58,
     "metadata": {},
     "output_type": "execute_result"
    }
   ],
   "source": [
    "folds=KFold(n_splits=5, shuffle=True, random_state=42)\n",
    "\n",
    "#range hyperparameters\n",
    "params={'alpha':[0.001,0.01,0.1,1]}\n",
    "\n",
    "#Lasso model\n",
    "model=Lasso()\n",
    "\n",
    "#gridsearchcv\n",
    "model_cv=GridSearchCV(estimator=model,param_grid=params,scoring='r2',cv=folds,return_train_score=True,verbose=1)\n",
    "model_cv.fit(x_train,y_train)"
   ]
  },
  {
   "cell_type": "code",
   "execution_count": 59,
   "id": "31d078b5",
   "metadata": {},
   "outputs": [
    {
     "data": {
      "text/plain": [
       "{'alpha': 0.001}"
      ]
     },
     "execution_count": 59,
     "metadata": {},
     "output_type": "execute_result"
    }
   ],
   "source": [
    "#checking best alpha value\n",
    "model_cv.best_params_"
   ]
  },
  {
   "cell_type": "markdown",
   "id": "02adf9b9",
   "metadata": {},
   "source": [
    "Best alpha for ridge regression model is 1"
   ]
  },
  {
   "cell_type": "markdown",
   "id": "d9c8c856",
   "metadata": {},
   "source": [
    "# Conclusion"
   ]
  },
  {
   "cell_type": "markdown",
   "id": "816d2e29",
   "metadata": {},
   "source": [
    "- Airbnb price could vary depending on neighborhood and room types.\n",
    "- Each neighborhood has different characteristic such as minimum nights a guest should spend, room availability and number of review depending on room type.\n",
    "- Ridge regression with alpha = 1 will be used for regrssion model as it has higher r2 than lasso regression model. Higher r2 means a model could represent the proportion of the variance for a dependent variable that's explained by an independent variable."
   ]
  }
 ],
 "metadata": {
  "kernelspec": {
   "display_name": "Python 3",
   "language": "python",
   "name": "python3"
  },
  "language_info": {
   "codemirror_mode": {
    "name": "ipython",
    "version": 3
   },
   "file_extension": ".py",
   "mimetype": "text/x-python",
   "name": "python",
   "nbconvert_exporter": "python",
   "pygments_lexer": "ipython3",
   "version": "3.8.8"
  },
  "varInspector": {
   "cols": {
    "lenName": 16,
    "lenType": 16,
    "lenVar": 40
   },
   "kernels_config": {
    "python": {
     "delete_cmd_postfix": "",
     "delete_cmd_prefix": "del ",
     "library": "var_list.py",
     "varRefreshCmd": "print(var_dic_list())"
    },
    "r": {
     "delete_cmd_postfix": ") ",
     "delete_cmd_prefix": "rm(",
     "library": "var_list.r",
     "varRefreshCmd": "cat(var_dic_list()) "
    }
   },
   "types_to_exclude": [
    "module",
    "function",
    "builtin_function_or_method",
    "instance",
    "_Feature"
   ],
   "window_display": false
  }
 },
 "nbformat": 4,
 "nbformat_minor": 5
}
